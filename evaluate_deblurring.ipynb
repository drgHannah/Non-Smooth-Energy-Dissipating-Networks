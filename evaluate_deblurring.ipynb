{
 "cells": [
  {
   "cell_type": "code",
   "execution_count": 6,
   "metadata": {},
   "outputs": [],
   "source": [
    "import torch\n",
    "import numpy as np\n",
    "import random\n",
    "import string\n",
    "import matplotlib.pyplot as plt\n",
    "from tqdm import tqdm\n",
    "import utils\n",
    "import gen_data\n",
    "from energies import Energies\n",
    "from models import ConstrainedNet1D"
   ]
  },
  {
   "cell_type": "markdown",
   "metadata": {},
   "source": [
    "## Load Image"
   ]
  },
  {
   "cell_type": "code",
   "execution_count": 7,
   "metadata": {},
   "outputs": [
    {
     "data": {
      "image/png": "[encoded data removed]",
      "text/plain": [
       "<Figure size 432x288 with 1 Axes>"
      ]
     },
     "metadata": {
      "needs_background": "light"
     },
     "output_type": "display_data"
    },
    {
     "data": {
      "image/png": "[encoded data removed]",
      "text/plain": [
       "<Figure size 432x288 with 1 Axes>"
      ]
     },
     "metadata": {
      "needs_background": "light"
     },
     "output_type": "display_data"
    }
   ],
   "source": [
    "def get_barcode(name=None,val=1.5):\n",
    "    if name == None:\n",
    "        name = ''.join([random.choice(\n",
    "                        string.ascii_letters + string.digits)\n",
    "                        for n in range(5)])\n",
    "    assert len(name)==5\n",
    "    barcode, blurred = gen_data.load_barcode(name,val)\n",
    "    h,w = barcode.shape\n",
    "    barcode=barcode[h//2]\n",
    "    blurred=blurred[h//2]\n",
    "    return torch.tensor(barcode), torch.tensor(blurred)\n",
    "\n",
    "bar,blur = get_barcode(val=1.0) # specify amount of blurring\n",
    "\n",
    "plt.figure()\n",
    "plt.imshow(utils.extend(bar),cmap=\"gray\")\n",
    "plt.title(\"Original\")\n",
    "plt.show()\n",
    "plt.figure()\n",
    "plt.imshow(utils.extend(blur),cmap=\"gray\")\n",
    "plt.title(\"Blurred\")\n",
    "plt.show()\n"
   ]
  },
  {
   "cell_type": "markdown",
   "metadata": {},
   "source": [
    "## Prepare"
   ]
  },
  {
   "cell_type": "code",
   "execution_count": 8,
   "metadata": {},
   "outputs": [],
   "source": [
    "device = \"cuda\"\n",
    "\n",
    "# prepare images\n",
    "Y = bar[None,None].float()\n",
    "f = blur[None,None].float()\n",
    "f = f.to(device)\n",
    "Y = Y.to(device)\n",
    "X = f.clone()\n",
    "\n",
    "# setting\n",
    "file = \"./example/net_barcode_0_0.1_30.0_1_0.1.pt\"\n",
    "filevars = file.split('/')[-1]\n",
    "vars = filevars.split('_')\n",
    "alpha = float(vars[5])\n",
    "mu = float(vars[6].split('.pt')[0])\n",
    "\n",
    "# load network\n",
    "network_onenorm = torch.load(file)\n",
    "net1n = ConstrainedNet1D(in_chn = 3, out_chn = 1, zeta1 = network_onenorm.zeta1, zeta2 = network_onenorm.zeta2, \\\n",
    "                    features = 32, num_layers = 10, constrained=network_onenorm.constrained)\n",
    "net1n.load_state_dict(network_onenorm.state_dict())\n",
    "net1n.to(device)\n",
    "net1n.eval()\n",
    "\n",
    "# load energies and noise measurement\n",
    "gradient = Energies.gradient_moreau_W(mu)\n",
    "energy = Energies.moreau_W(mu)"
   ]
  },
  {
   "cell_type": "markdown",
   "metadata": {},
   "source": [
    "## Optimize"
   ]
  },
  {
   "cell_type": "code",
   "execution_count": 9,
   "metadata": {},
   "outputs": [
    {
     "data": {
      "image/png": "[encoded data removed]",
      "text/plain": [
       "<Figure size 432x288 with 1 Axes>"
      ]
     },
     "metadata": {
      "needs_background": "light"
     },
     "output_type": "display_data"
    },
    {
     "data": {
      "image/png": "[encoded data removed]",
      "text/plain": [
       "<Figure size 432x288 with 1 Axes>"
      ]
     },
     "metadata": {
      "needs_background": "light"
     },
     "output_type": "display_data"
    },
    {
     "data": {
      "image/png": "[encoded data removed]",
      "text/plain": [
       "<Figure size 432x288 with 1 Axes>"
      ]
     },
     "metadata": {
      "needs_background": "light"
     },
     "output_type": "display_data"
    }
   ],
   "source": [
    "pbar = tqdm(range(40), disable=True)\n",
    "results=[]\n",
    "energies=[]\n",
    "real_energies=[]\n",
    "simil_img=[]\n",
    "\n",
    "stepsize = net1n.zeta1 / ((net1n.zeta2**2)*(1/mu))\n",
    "for i in pbar:\n",
    "\n",
    "    # update step\n",
    "    tau = np.maximum(1/(i+1)*2.2, stepsize)\n",
    "    d_dir = -gradient(X)\n",
    "    with torch.no_grad():\n",
    "        d_dir = net1n(X, -d_dir, f)[0]\n",
    "    X = X + tau * d_dir\n",
    "\n",
    "    # save\n",
    "    results.append(X.cpu())\n",
    "    energies.append(energy(X).cpu())\n",
    "    real_energies.append(Energies.energy_W(X).cpu())\n",
    "\n",
    "# plot\n",
    "plt.figure()\n",
    "plt.title(\"Blurred\")\n",
    "plt.imshow(utils.extend(f[0,0].cpu()),cmap=\"gray\")\n",
    "plt.show()\n",
    "\n",
    "plt.figure()\n",
    "plt.title(\"Original\")\n",
    "plt.imshow(utils.extend(bar.cpu()),cmap=\"gray\")\n",
    "plt.show()\n",
    "\n",
    "plt.figure()\n",
    "plt.title(\"Result\")\n",
    "plt.imshow(utils.extend(results[-1][0,0]),cmap=\"gray\")\n",
    "plt.show()\n"
   ]
  }
 ],
 "metadata": {
  "interpreter": {
   "hash": "4a068fb22b47e2e60deecba04e1321c2ac0f8637cb1a7b2894e5a236dce0f8e8"
  },
  "kernelspec": {
   "display_name": "Python 3.8.10 64-bit ('env': venv)",
   "language": "python",
   "name": "python3"
  },
  "language_info": {
   "codemirror_mode": {
    "name": "ipython",
    "version": 3
   },
   "file_extension": ".py",
   "mimetype": "text/x-python",
   "name": "python",
   "nbconvert_exporter": "python",
   "pygments_lexer": "ipython3",
   "version": "3.8.10"
  },
  "orig_nbformat": 4
 },
 "nbformat": 4,
 "nbformat_minor": 2
}
